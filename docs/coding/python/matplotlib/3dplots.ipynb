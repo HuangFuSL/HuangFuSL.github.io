{
 "cells": [
  {
   "cell_type": "markdown",
   "metadata": {},
   "source": [
    "matplotlib中的3D绘图模块位于`mpl_toolkits.mplot3d.Axes3D`中"
   ]
  },
  {
   "cell_type": "code",
   "execution_count": null,
   "metadata": {},
   "outputs": [],
   "source": [
    "from matplotlib import pyplot as plt\n",
    "from mpl_toolkits.mplot3d import Axes3D\n",
    "import numpy as np"
   ]
  },
  {
   "cell_type": "markdown",
   "metadata": {},
   "source": [
    "构造一个`Axes3D`对象需要提供该图表所处的容器，即`Figure`。三维图表有两个视角可以控制，即航向与俯仰。航向控制视角在xOy平面上的夹角，俯仰控制视角的俯视角度。"
   ]
  },
  {
   "cell_type": "code",
   "execution_count": null,
   "metadata": {},
   "outputs": [],
   "source": [
    "fig = plt.figure(figsize=(8, 8)) # figsize控制绘图大小\n",
    "ax = Axes3D(fig,\n",
    "    xlabel=\"X axis\", ylabel=\"Y axis\", zlabel=\"Z axis\",\n",
    "    # xlabel, ylabel, zlabel用于设定三个坐标轴的注解\n",
    "    azim=-120, elev=30 # azim 控制视角在xOy平面上的夹角，elev 控制视角的俯视角度\n",
    ")"
   ]
  },
  {
   "cell_type": "markdown",
   "metadata": {},
   "source": [
    "使用numpy生成用于作图的随机数据"
   ]
  },
  {
   "cell_type": "code",
   "execution_count": null,
   "metadata": {},
   "outputs": [],
   "source": [
    "x = np.random.uniform(0, 1, 10)\n",
    "y = np.random.uniform(0, 1, 10)\n",
    "z = np.random.uniform(0, 1, 10)"
   ]
  },
  {
   "cell_type": "markdown",
   "metadata": {},
   "source": [
    "`Axes3D`使用的方法与`Axes`使用方法大体相同，区别在于`Axes3D`需要输入三维数据而`Axes`输入二维数据。"
   ]
  },
  {
   "cell_type": "code",
   "execution_count": null,
   "metadata": {},
   "outputs": [],
   "source": [
    "zmax = max(z) # 获取z轴高度最大值，用于设定数据标签\n",
    "ax.scatter(x, y, z, c=\"darkblue\", label=\"Test legend\", s=25) # c参数设定颜色，label参数设定图例，s参数控制大小\n",
    "for a, b, c in zip(x, y, z):\n",
    "    ax.plot([a, a], [b, b], [0, c], c=\"darkblue\") # 绘制竖直线，c参数用于设定颜色\n",
    "    ax.text(a, b, c + 0.05 * zmax, \"(%.2f, %.2f, %.2f)\" % (a, b, c), ha=\"center\")\n",
    "    # 添加点标签，调整0.05参数可以更改标签所属的高度，\"(%.2f, %.2f, %.2f)\"中为标签内容，ha参数设定标签对齐方式\n",
    "ax.legend(fontsize='large') # fontsize参数设置标签字体大小\n",
    "ax.set_title(\"Figure title\", fontsize='xx-large') # 图表标题\n",
    "fig.show()"
   ]
  },
  {
   "cell_type": "code",
   "execution_count": null,
   "metadata": {},
   "outputs": [],
   "source": []
  }
 ],
 "metadata": {
  "kernelspec": {
   "display_name": "Python 3.7.9 64-bit",
   "metadata": {
    "interpreter": {
     "hash": "0600588c3b5f4418cbe7b5ebc6825b479f3bc010269d8b60d75058cdd010adfe"
    }
   },
   "name": "python3"
  },
  "language_info": {
   "codemirror_mode": {
    "name": "ipython",
    "version": 3
   },
   "file_extension": ".py",
   "mimetype": "text/x-python",
   "name": "python",
   "nbconvert_exporter": "python",
   "pygments_lexer": "ipython3",
   "version": "3.7.9-final"
  },
  "orig_nbformat": 2
 },
 "nbformat": 4,
 "nbformat_minor": 2
}
