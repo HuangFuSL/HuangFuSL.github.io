{
 "cells": [
  {
   "cell_type": "markdown",
   "metadata": {},
   "source": [
    "# Jupyter for Rust\n",
    "\n",
    "Rust的`evcxr_jupyter`包提供了对jupyter notebook的支持，可以在notebook中运行Rust代码。使用如下命令安装：\n",
    "\n",
    "```bash\n",
    "cargo install --locked evcxr_jupyter\n",
    "evcxr_jupyter --install\n",
    "```\n",
    "\n",
    "另外，还需要安装Rust标准库的源代码：\n",
    "\n",
    "```bash\n",
    "rustup component add rust-src\n",
    "```\n",
    "\n",
    "之后，就可以在notebook中运行Rust代码了。\n",
    "\n",
    "```bash\n",
    "jupyter notebook\n",
    "```"
   ]
  },
  {
   "cell_type": "code",
   "execution_count": 2,
   "metadata": {},
   "outputs": [
    {
     "data": {
      "text/plain": [
       "3"
      ]
     },
     "execution_count": 2,
     "metadata": {},
     "output_type": "execute_result"
    }
   ],
   "source": [
    "fn add(a: i32, b: i32) -> i32 {\n",
    "    a + b\n",
    "}\n",
    "\n",
    "add(1, 2) // The last expression is evaluated and printed"
   ]
  },
  {
   "cell_type": "markdown",
   "metadata": {},
   "source": [
    "使用`:dep <package>`来导入包。`evcxr_input`包提供了`get_string`和`get_password`函数，可以在notebook中输入字符串和密码。"
   ]
  },
  {
   "cell_type": "code",
   "execution_count": 3,
   "metadata": {},
   "outputs": [
    {
     "name": "stdout",
     "output_type": "stream",
     "text": [
      "Hello, Alice! Your password is alice123\n"
     ]
    }
   ],
   "source": [
    ":dep evcxr_input\n",
    "let name = evcxr_input::get_string(\"Name?\");\n",
    "let password = evcxr_input::get_password(\"Password?\");\n",
    "\n",
    "println!(\"Hello, {name}! Your password is {password}\", name=name, password=password);"
   ]
  },
  {
   "cell_type": "markdown",
   "metadata": {},
   "source": [
    "使用如下命令卸载Rust\n",
    "\n",
    "```bash\n",
    "evcxr_jupyter --uninstall\n",
    "cargo uninstall evcxr_jupyter\n",
    "```"
   ]
  }
 ],
 "metadata": {
  "kernelspec": {
   "display_name": "Rust",
   "language": "rust",
   "name": "rust"
  },
  "language_info": {
   "codemirror_mode": "rust",
   "file_extension": ".rs",
   "mimetype": "text/rust",
   "name": "rust",
   "pygment_lexer": "rust",
   "version": ""
  }
 },
 "nbformat": 4,
 "nbformat_minor": 2
}
