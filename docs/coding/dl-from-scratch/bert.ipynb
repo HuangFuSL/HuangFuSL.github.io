{
 "cells": [
  {
   "cell_type": "code",
   "execution_count": 1,
   "metadata": {},
   "outputs": [],
   "source": [
    "import transformers\n",
    "import torch\n",
    "\n",
    "from custom_transformer import Encoder"
   ]
  },
  {
   "cell_type": "markdown",
   "metadata": {},
   "source": [
    "huggingface中的模型通常对应一组config，存储模型的超参数。"
   ]
  },
  {
   "cell_type": "code",
   "execution_count": 2,
   "metadata": {},
   "outputs": [
    {
     "name": "stderr",
     "output_type": "stream",
     "text": [
      "/opt/homebrew/lib/python3.11/site-packages/huggingface_hub/file_download.py:1132: FutureWarning: `resume_download` is deprecated and will be removed in version 1.0.0. Downloads always resume when possible. If you want to force a new download, use `force_download=True`.\n",
      "  warnings.warn(\n"
     ]
    },
    {
     "data": {
      "text/plain": [
       "BertConfig {\n",
       "  \"architectures\": [\n",
       "    \"BertForMaskedLM\"\n",
       "  ],\n",
       "  \"attention_probs_dropout_prob\": 0.1,\n",
       "  \"classifier_dropout\": null,\n",
       "  \"gradient_checkpointing\": false,\n",
       "  \"hidden_act\": \"gelu\",\n",
       "  \"hidden_dropout_prob\": 0.1,\n",
       "  \"hidden_size\": 768,\n",
       "  \"initializer_range\": 0.02,\n",
       "  \"intermediate_size\": 3072,\n",
       "  \"layer_norm_eps\": 1e-12,\n",
       "  \"max_position_embeddings\": 512,\n",
       "  \"model_type\": \"bert\",\n",
       "  \"num_attention_heads\": 12,\n",
       "  \"num_hidden_layers\": 12,\n",
       "  \"pad_token_id\": 0,\n",
       "  \"position_embedding_type\": \"absolute\",\n",
       "  \"transformers_version\": \"4.41.2\",\n",
       "  \"type_vocab_size\": 2,\n",
       "  \"use_cache\": true,\n",
       "  \"vocab_size\": 30522\n",
       "}"
      ]
     },
     "execution_count": 2,
     "metadata": {},
     "output_type": "execute_result"
    }
   ],
   "source": [
    "bert_config = transformers.BertConfig.from_pretrained('bert-base-uncased', local_files_only=True)\n",
    "# Remove the pooler layer\n",
    "bert_config"
   ]
  },
  {
   "cell_type": "markdown",
   "metadata": {},
   "source": [
    "首先，我们可以直接加载预训练的bert-base-uncased模型，用于和我们的模型进行对比。"
   ]
  },
  {
   "cell_type": "code",
   "execution_count": 3,
   "metadata": {},
   "outputs": [
    {
     "data": {
      "text/plain": [
       "BertModel(\n",
       "  (embeddings): BertEmbeddings(\n",
       "    (word_embeddings): Embedding(30522, 768, padding_idx=0)\n",
       "    (position_embeddings): Embedding(512, 768)\n",
       "    (token_type_embeddings): Embedding(2, 768)\n",
       "    (LayerNorm): LayerNorm((768,), eps=1e-12, elementwise_affine=True)\n",
       "    (dropout): Dropout(p=0.1, inplace=False)\n",
       "  )\n",
       "  (encoder): BertEncoder(\n",
       "    (layer): ModuleList(\n",
       "      (0-11): 12 x BertLayer(\n",
       "        (attention): BertAttention(\n",
       "          (self): BertSdpaSelfAttention(\n",
       "            (query): Linear(in_features=768, out_features=768, bias=True)\n",
       "            (key): Linear(in_features=768, out_features=768, bias=True)\n",
       "            (value): Linear(in_features=768, out_features=768, bias=True)\n",
       "            (dropout): Dropout(p=0.1, inplace=False)\n",
       "          )\n",
       "          (output): BertSelfOutput(\n",
       "            (dense): Linear(in_features=768, out_features=768, bias=True)\n",
       "            (LayerNorm): LayerNorm((768,), eps=1e-12, elementwise_affine=True)\n",
       "            (dropout): Dropout(p=0.1, inplace=False)\n",
       "          )\n",
       "        )\n",
       "        (intermediate): BertIntermediate(\n",
       "          (dense): Linear(in_features=768, out_features=3072, bias=True)\n",
       "          (intermediate_act_fn): GELUActivation()\n",
       "        )\n",
       "        (output): BertOutput(\n",
       "          (dense): Linear(in_features=3072, out_features=768, bias=True)\n",
       "          (LayerNorm): LayerNorm((768,), eps=1e-12, elementwise_affine=True)\n",
       "          (dropout): Dropout(p=0.1, inplace=False)\n",
       "        )\n",
       "      )\n",
       "    )\n",
       "  )\n",
       ")"
      ]
     },
     "execution_count": 3,
     "metadata": {},
     "output_type": "execute_result"
    }
   ],
   "source": [
    "bert_tokenizer = transformers.BertTokenizer.from_pretrained(\n",
    "    'bert-base-uncased', local_files_only=True\n",
    ")\n",
    "hf_model = transformers.BertModel.from_pretrained(\n",
    "    'bert-base-uncased', config=bert_config, add_pooling_layer=False\n",
    ")\n",
    "hf_model"
   ]
  },
  {
   "cell_type": "markdown",
   "metadata": {},
   "source": [
    "接下来，我们根据config和模型的结构，实现一个BERT模型。"
   ]
  },
  {
   "cell_type": "code",
   "execution_count": 4,
   "metadata": {},
   "outputs": [
    {
     "data": {
      "text/plain": [
       "CustomBertModel(\n",
       "  (shared): BertEmbeddings(\n",
       "    (word_embeddings): Embedding(30522, 768, padding_idx=0)\n",
       "    (positional_embedding): Embedding(512, 768)\n",
       "    (token_type_embeddings): Embedding(2, 768)\n",
       "    (ln): LayerNorm((768,), eps=1e-12, elementwise_affine=True)\n",
       "    (dropout): Dropout(p=0.1, inplace=False)\n",
       "  )\n",
       "  (encoder): Encoder(\n",
       "    (layers): ModuleList(\n",
       "      (0-11): 12 x EncoderLayer(\n",
       "        (attention): MultiHeadSelfAttention(\n",
       "          (W_Q): Linear(in_features=768, out_features=768, bias=True)\n",
       "          (W_K): Linear(in_features=768, out_features=768, bias=True)\n",
       "          (W_V): Linear(in_features=768, out_features=768, bias=True)\n",
       "          (W_O): Linear(in_features=768, out_features=768, bias=True)\n",
       "        )\n",
       "        (norm1): LayerNorm((768,), eps=1e-12, elementwise_affine=True)\n",
       "        (dropout1): Dropout(p=0.1, inplace=False)\n",
       "        (ffn): FFN(\n",
       "          (fc1): Linear(in_features=768, out_features=3072, bias=True)\n",
       "          (fc2): Linear(in_features=3072, out_features=768, bias=True)\n",
       "          (act): GELU(approximate='none')\n",
       "        )\n",
       "        (norm2): LayerNorm((768,), eps=1e-12, elementwise_affine=True)\n",
       "        (dropout2): Dropout(p=0.1, inplace=False)\n",
       "      )\n",
       "    )\n",
       "  )\n",
       ")"
      ]
     },
     "execution_count": 4,
     "metadata": {},
     "output_type": "execute_result"
    }
   ],
   "source": [
    "class BertEmbeddings(torch.nn.Module):\n",
    "    def __init__(self, config: transformers.BertConfig):\n",
    "        super(BertEmbeddings, self).__init__()\n",
    "\n",
    "        self.word_embeddings = torch.nn.Embedding(\n",
    "            config.vocab_size, config.hidden_size, padding_idx=config.pad_token_id\n",
    "        )\n",
    "        self.positional_embedding = torch.nn.Embedding(\n",
    "            config.max_position_embeddings, config.hidden_size\n",
    "        )\n",
    "        self.token_type_embeddings = torch.nn.Embedding(\n",
    "            config.type_vocab_size, config.hidden_size\n",
    "        )\n",
    "        self.ln = torch.nn.LayerNorm(config.hidden_size, eps=config.layer_norm_eps)\n",
    "        self.dropout = torch.nn.Dropout(config.hidden_dropout_prob)\n",
    "\n",
    "    def forward(self, input_ids):\n",
    "        input_embeds = self.word_embeddings(input_ids)\n",
    "        pos_embeds = self.positional_embedding(\n",
    "            torch.arange(input_ids.size(1), device=input_ids.device)\n",
    "        )\n",
    "        type_embeds = self.token_type_embeddings(\n",
    "            torch.zeros_like(input_ids)\n",
    "        )\n",
    "        return self.dropout(self.ln(input_embeds + pos_embeds + type_embeds))\n",
    "\n",
    "class CustomBertModel(torch.nn.Module):\n",
    "    def __init__(self, config: transformers.BertConfig):\n",
    "        super(CustomBertModel, self).__init__()\n",
    "        self.shared = BertEmbeddings(config)\n",
    "        self.encoder = Encoder(\n",
    "            num_layers=config.num_hidden_layers,\n",
    "            input_dim=config.hidden_size,\n",
    "            num_heads=config.num_attention_heads,\n",
    "            ffn_dim=config.intermediate_size,\n",
    "            dropout=config.hidden_dropout_prob,\n",
    "            layer_norm_eps=config.layer_norm_eps,\n",
    "            activation=config.hidden_act,\n",
    "        )\n",
    "\n",
    "    def forward(self, input_ids, padding_mask):\n",
    "        input_embeds = self.shared(input_ids)\n",
    "        return self.encoder(input_embeds, padding_mask=padding_mask)\n",
    "\n",
    "custom_model = CustomBertModel(bert_config)\n",
    "custom_model"
   ]
  },
  {
   "cell_type": "markdown",
   "metadata": {},
   "source": [
    "我们需要实现一个函数，将预训练模型的权重加载到我们的模型中。"
   ]
  },
  {
   "cell_type": "code",
   "execution_count": 5,
   "metadata": {},
   "outputs": [],
   "source": [
    "def copy_weights(src, dest, bias: bool = False):\n",
    "    src.weight.data.copy_(dest.weight.data)\n",
    "    if bias:\n",
    "        src.bias.data.copy_(dest.bias.data)\n",
    "\n",
    "def load_weight_from_hf(model: CustomBertModel, hf_model: transformers.BertModel):\n",
    "    # Embeddings\n",
    "    unbiased_layer_pairs = [\n",
    "        (model.shared.word_embeddings, hf_model.embeddings.word_embeddings),\n",
    "        (model.shared.positional_embedding, hf_model.embeddings.position_embeddings),\n",
    "        (model.shared.token_type_embeddings, hf_model.embeddings.token_type_embeddings),\n",
    "    ]\n",
    "    biased_layer_pairs = [\n",
    "        (model.shared.ln, hf_model.embeddings.LayerNorm),\n",
    "    ]\n",
    "    for custom_layer, hf_layer in zip(model.encoder.layers, hf_model.encoder.layer):\n",
    "        # attn\n",
    "        biased_layer_pairs.append((custom_layer.attention.W_Q, hf_layer.attention.self.query))\n",
    "        biased_layer_pairs.append((custom_layer.attention.W_K, hf_layer.attention.self.key))\n",
    "        biased_layer_pairs.append((custom_layer.attention.W_V, hf_layer.attention.self.value))\n",
    "        biased_layer_pairs.append((custom_layer.attention.W_O, hf_layer.attention.output.dense))\n",
    "        biased_layer_pairs.append((custom_layer.norm1, hf_layer.attention.output.LayerNorm))\n",
    "        # ffn\n",
    "        biased_layer_pairs.append((custom_layer.ffn.fc1, hf_layer.intermediate.dense))\n",
    "        biased_layer_pairs.append((custom_layer.ffn.fc2, hf_layer.output.dense))\n",
    "        biased_layer_pairs.append((custom_layer.norm2, hf_layer.output.LayerNorm))\n",
    "\n",
    "    for src, dest in unbiased_layer_pairs:\n",
    "        copy_weights(src, dest)\n",
    "    for src, dest in biased_layer_pairs:\n",
    "        copy_weights(src, dest, bias=True)\n",
    "    return model"
   ]
  },
  {
   "cell_type": "code",
   "execution_count": 6,
   "metadata": {},
   "outputs": [],
   "source": [
    "custom_model = load_weight_from_hf(custom_model, hf_model)"
   ]
  },
  {
   "cell_type": "markdown",
   "metadata": {},
   "source": [
    "使用BERT编码一句话，首先需要对句子分词，然后将其输入模型得到对应的输出。"
   ]
  },
  {
   "cell_type": "code",
   "execution_count": 7,
   "metadata": {},
   "outputs": [
    {
     "data": {
      "text/plain": [
       "(tensor([-0.0781,  0.1587,  0.0400, -0.1986, -0.3442], grad_fn=<SliceBackward0>),\n",
       " tensor([-0.0781,  0.1587,  0.0400, -0.1986, -0.3442], grad_fn=<SliceBackward0>))"
      ]
     },
     "execution_count": 7,
     "metadata": {},
     "output_type": "execute_result"
    }
   ],
   "source": [
    "custom_model.eval()\n",
    "hf_model.eval()\n",
    "\n",
    "sentence = \"Hello, World!\"\n",
    "tokenized_sentence = bert_tokenizer(sentence, return_tensors='pt')\n",
    "input_ids = tokenized_sentence['input_ids']\n",
    "padding_mask = tokenized_sentence['attention_mask']\n",
    "\n",
    "custom_output = custom_model(input_ids, padding_mask)\n",
    "hf_output = hf_model(input_ids, attention_mask=padding_mask).last_hidden_state\n",
    "custom_output[0, 0, :5], hf_output[0, 0, :5]"
   ]
  },
  {
   "cell_type": "code",
   "execution_count": 8,
   "metadata": {},
   "outputs": [
    {
     "data": {
      "text/plain": [
       "True"
      ]
     },
     "execution_count": 8,
     "metadata": {},
     "output_type": "execute_result"
    }
   ],
   "source": [
    "torch.allclose(custom_output, hf_output, atol=1e-5)"
   ]
  }
 ],
 "metadata": {
  "kernelspec": {
   "display_name": "Python 3",
   "language": "python",
   "name": "python3"
  },
  "language_info": {
   "codemirror_mode": {
    "name": "ipython",
    "version": 3
   },
   "file_extension": ".py",
   "mimetype": "text/x-python",
   "name": "python",
   "nbconvert_exporter": "python",
   "pygments_lexer": "ipython3",
   "version": "3.11.7"
  }
 },
 "nbformat": 4,
 "nbformat_minor": 2
}
